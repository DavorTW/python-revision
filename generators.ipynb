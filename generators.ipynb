{
 "cells": [
  {
   "cell_type": "code",
   "execution_count": null,
   "id": "d35dfe70-bf53-4809-b613-720c0ef67943",
   "metadata": {},
   "outputs": [],
   "source": [
    "#generators are recipes for producing values"
   ]
  },
  {
   "cell_type": "code",
   "execution_count": 2,
   "id": "f117d08d-97ec-40c1-b6b3-6f796111ad7c",
   "metadata": {},
   "outputs": [
    {
     "data": {
      "text/plain": [
       "<generator object <genexpr> at 0x7ccf2f47d490>"
      ]
     },
     "execution_count": 2,
     "metadata": {},
     "output_type": "execute_result"
    }
   ],
   "source": [
    "(n ** 2 for n in range(20))"
   ]
  },
  {
   "cell_type": "code",
   "execution_count": 3,
   "id": "484361db-81d9-4975-ba63-c0df69792992",
   "metadata": {},
   "outputs": [
    {
     "data": {
      "text/plain": [
       "[0, 1, 4, 9, 16, 25, 36, 49, 64, 81, 100, 121]"
      ]
     },
     "execution_count": 3,
     "metadata": {},
     "output_type": "execute_result"
    }
   ],
   "source": [
    "G = (n ** 2 for n in range(12))\n",
    "list(G)"
   ]
  },
  {
   "cell_type": "code",
   "execution_count": 4,
   "id": "89981132-d6b4-4e82-b939-6cece622c0c7",
   "metadata": {},
   "outputs": [
    {
     "name": "stdout",
     "output_type": "stream",
     "text": [
      "1 11 13 17 19 23 29 31 37 41 "
     ]
    }
   ],
   "source": [
    "from itertools import count\n",
    "#finding first prime numbers using the Sieve of Eratosthenes algorithm and generators\n",
    "factors = [2, 3, 5, 7]\n",
    "G = (i for i in count() if all(i % n > 0 for n in factors))\n",
    "for val in G:\n",
    "    print(val, end = ' ')\n",
    "    if val > 40: break\n"
   ]
  },
  {
   "cell_type": "code",
   "execution_count": 5,
   "id": "1c38e007-aaa6-458f-bc6c-bb378519aee4",
   "metadata": {},
   "outputs": [
    {
     "name": "stdout",
     "output_type": "stream",
     "text": [
      "0 1 4 9 16 25 36 \n",
      "doing something in between\n",
      "49 64 81 100 121 "
     ]
    }
   ],
   "source": [
    "#a generator expresion is single use, meaning iteration can be stopped and started\n",
    "G = (n ** 2 for n in range(12))\n",
    "for n in G:\n",
    "    print(n, end = ' ')\n",
    "    if n > 30: break\n",
    "\n",
    "print(\"\\ndoing something in between\")\n",
    "\n",
    "for n in G:\n",
    "    print(n, end= ' ')"
   ]
  },
  {
   "cell_type": "code",
   "execution_count": 6,
   "id": "4e1dbe31-d7eb-4f04-87f6-64b2ed449a6a",
   "metadata": {},
   "outputs": [
    {
     "name": "stdout",
     "output_type": "stream",
     "text": [
      "0 1 4 9 16 25 36 49 64 81 100 121\n"
     ]
    }
   ],
   "source": [
    "#generator function\n",
    "def gen():\n",
    "    for n in range(12):\n",
    "        yield n ** 2\n",
    "G = gen()\n",
    "print(*G)"
   ]
  },
  {
   "cell_type": "code",
   "execution_count": 8,
   "id": "411ce8ef-9d22-4705-8bed-55b11635523c",
   "metadata": {},
   "outputs": [
    {
     "name": "stdout",
     "output_type": "stream",
     "text": [
      "2 3 5 7 11 13 17 19 23 29 31 37 41 43 47 53 59 61 67 71 73 79 83 89 97\n"
     ]
    }
   ],
   "source": [
    "#Prime number generator using generator functions\n",
    "def gen_primes(N):\n",
    "    \"\"\"Generate primes up to N\"\"\"\n",
    "    primes = set()\n",
    "    for n in range(2, N):\n",
    "        if all(n % p > 0 for p in primes):\n",
    "            primes.add(n)\n",
    "            yield n\n",
    "print(*gen_primes(100))"
   ]
  },
  {
   "cell_type": "code",
   "execution_count": null,
   "id": "11431d9e-cd5b-49d3-847f-0533143a1e69",
   "metadata": {},
   "outputs": [],
   "source": []
  }
 ],
 "metadata": {
  "kernelspec": {
   "display_name": "Python 3 (ipykernel)",
   "language": "python",
   "name": "python3"
  },
  "language_info": {
   "codemirror_mode": {
    "name": "ipython",
    "version": 3
   },
   "file_extension": ".py",
   "mimetype": "text/x-python",
   "name": "python",
   "nbconvert_exporter": "python",
   "pygments_lexer": "ipython3",
   "version": "3.12.7"
  }
 },
 "nbformat": 4,
 "nbformat_minor": 5
}
